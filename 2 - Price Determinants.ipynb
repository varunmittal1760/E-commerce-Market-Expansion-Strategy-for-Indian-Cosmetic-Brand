{
 "cells": [
  {
   "cell_type": "code",
   "execution_count": 1,
   "id": "f421b9f5-8aea-46ef-acb8-a0484ad4cde1",
   "metadata": {},
   "outputs": [],
   "source": [
    "import pandas as pd\n",
    "import numpy as np\n",
    "import matplotlib.pyplot as plt\n",
    "import seaborn as sns"
   ]
  },
  {
   "cell_type": "code",
   "execution_count": 2,
   "id": "c9334bfa-2059-4748-b9eb-63a05dcf6b43",
   "metadata": {},
   "outputs": [
    {
     "data": {
      "text/html": [
       "<div>\n",
       "<style scoped>\n",
       "    .dataframe tbody tr th:only-of-type {\n",
       "        vertical-align: middle;\n",
       "    }\n",
       "\n",
       "    .dataframe tbody tr th {\n",
       "        vertical-align: top;\n",
       "    }\n",
       "\n",
       "    .dataframe thead th {\n",
       "        text-align: right;\n",
       "    }\n",
       "</style>\n",
       "<table border=\"1\" class=\"dataframe\">\n",
       "  <thead>\n",
       "    <tr style=\"text-align: right;\">\n",
       "      <th></th>\n",
       "      <th>product_name</th>\n",
       "      <th>website</th>\n",
       "      <th>country</th>\n",
       "      <th>category</th>\n",
       "      <th>subcategory</th>\n",
       "      <th>title-href</th>\n",
       "      <th>price</th>\n",
       "      <th>brand</th>\n",
       "      <th>ingredients</th>\n",
       "      <th>form</th>\n",
       "      <th>type</th>\n",
       "      <th>color</th>\n",
       "      <th>size</th>\n",
       "      <th>rating</th>\n",
       "      <th>noofratings</th>\n",
       "    </tr>\n",
       "  </thead>\n",
       "  <tbody>\n",
       "    <tr>\n",
       "      <th>0</th>\n",
       "      <td>Carlton London Incense Eau da parfum, Premium ...</td>\n",
       "      <td>Flipkart</td>\n",
       "      <td>India</td>\n",
       "      <td>body</td>\n",
       "      <td>perfume</td>\n",
       "      <td>https://www.amazon.in/Carlton-London-Limited-I...</td>\n",
       "      <td>599.0</td>\n",
       "      <td>Carlton London</td>\n",
       "      <td>NaN</td>\n",
       "      <td>aerosol</td>\n",
       "      <td>NaN</td>\n",
       "      <td>Top Note: Orange Blossom, Blackberry | Heart N...</td>\n",
       "      <td>100</td>\n",
       "      <td>3.9</td>\n",
       "      <td>19</td>\n",
       "    </tr>\n",
       "    <tr>\n",
       "      <th>1</th>\n",
       "      <td>CHARLENE SPRAY MIST PERFUME 30 - INTIMATE (PAC...</td>\n",
       "      <td>Flipkart</td>\n",
       "      <td>India</td>\n",
       "      <td>body</td>\n",
       "      <td>perfume</td>\n",
       "      <td>https://www.amazon.in/CHARLENE-SPRAY-MIST-PERF...</td>\n",
       "      <td>149.0</td>\n",
       "      <td>Charlene</td>\n",
       "      <td>NaN</td>\n",
       "      <td>aerosol</td>\n",
       "      <td>NaN</td>\n",
       "      <td>Unit count type:</td>\n",
       "      <td>30</td>\n",
       "      <td>4.4</td>\n",
       "      <td>4,031</td>\n",
       "    </tr>\n",
       "    <tr>\n",
       "      <th>2</th>\n",
       "      <td>CHARLENE SPRAY MIST PERFUME 30 - INTIMATE (PAC...</td>\n",
       "      <td>Flipkart</td>\n",
       "      <td>India</td>\n",
       "      <td>body</td>\n",
       "      <td>perfume</td>\n",
       "      <td>https://www.amazon.in/CHARLENE-SPRAY-MIST-PERF...</td>\n",
       "      <td>298.0</td>\n",
       "      <td>Charlene</td>\n",
       "      <td>NaN</td>\n",
       "      <td>aerosol</td>\n",
       "      <td>NaN</td>\n",
       "      <td>Unit count type:</td>\n",
       "      <td>30</td>\n",
       "      <td>4.4</td>\n",
       "      <td>4,072</td>\n",
       "    </tr>\n",
       "  </tbody>\n",
       "</table>\n",
       "</div>"
      ],
      "text/plain": [
       "                                        product_name   website country  \\\n",
       "0  Carlton London Incense Eau da parfum, Premium ...  Flipkart   India   \n",
       "1  CHARLENE SPRAY MIST PERFUME 30 - INTIMATE (PAC...  Flipkart   India   \n",
       "2  CHARLENE SPRAY MIST PERFUME 30 - INTIMATE (PAC...  Flipkart   India   \n",
       "\n",
       "  category subcategory                                         title-href  \\\n",
       "0     body     perfume  https://www.amazon.in/Carlton-London-Limited-I...   \n",
       "1     body     perfume  https://www.amazon.in/CHARLENE-SPRAY-MIST-PERF...   \n",
       "2     body     perfume  https://www.amazon.in/CHARLENE-SPRAY-MIST-PERF...   \n",
       "\n",
       "   price           brand ingredients     form type  \\\n",
       "0  599.0  Carlton London         NaN  aerosol  NaN   \n",
       "1  149.0        Charlene         NaN  aerosol  NaN   \n",
       "2  298.0        Charlene         NaN  aerosol  NaN   \n",
       "\n",
       "                                               color size rating noofratings  \n",
       "0  Top Note: Orange Blossom, Blackberry | Heart N...  100    3.9          19  \n",
       "1                                   Unit count type:   30    4.4       4,031  \n",
       "2                                   Unit count type:   30    4.4       4,072  "
      ]
     },
     "execution_count": 2,
     "metadata": {},
     "output_type": "execute_result"
    }
   ],
   "source": [
    "df = pd.read_csv(\"C:\\\\Users\\\\aksha\\\\OneDrive\\\\Documents\\\\mitb_sem2\\\\DSB\\\\group_project\\\\cosmetics\\\\cosmetics.csv\",encoding=\"latin-1\")\n",
    "df.head(3)"
   ]
  },
  {
   "cell_type": "code",
   "execution_count": 3,
   "id": "d6d5a191-a9b9-42bd-a667-f1c53b34a4d5",
   "metadata": {},
   "outputs": [],
   "source": [
    "def sizeclean(point):\n",
    "    if type(point)==str:\n",
    "        point=point.split(\" \")[0]\n",
    "        point=float(point)\n",
    "    return point"
   ]
  },
  {
   "cell_type": "code",
   "execution_count": 4,
   "id": "315cf9ef-072b-4917-be48-87336465e290",
   "metadata": {},
   "outputs": [],
   "source": [
    "df['size']=df['size'].apply(sizeclean)"
   ]
  },
  {
   "cell_type": "code",
   "execution_count": 5,
   "id": "b9f3bd43-d192-4879-bd4b-ce4829d7c90c",
   "metadata": {},
   "outputs": [],
   "source": [
    "# Convert the 'size' column to numeric, forcing errors to NaN\n",
    "df['size'] = pd.to_numeric(df['size'], errors='coerce')"
   ]
  },
  {
   "cell_type": "code",
   "execution_count": 6,
   "id": "0e8b0197-aaae-4d5f-942e-416a3d5c411b",
   "metadata": {},
   "outputs": [
    {
     "data": {
      "text/plain": [
       "product_name       0\n",
       "website            0\n",
       "country            0\n",
       "category           0\n",
       "subcategory        0\n",
       "title-href         0\n",
       "price            317\n",
       "brand              0\n",
       "ingredients     6015\n",
       "form               0\n",
       "type               0\n",
       "color           1989\n",
       "size            3166\n",
       "rating          2067\n",
       "noofratings      459\n",
       "size_cv            0\n",
       "price_cv           0\n",
       "dtype: int64"
      ]
     },
     "execution_count": 6,
     "metadata": {},
     "output_type": "execute_result"
    }
   ],
   "source": [
    "# Fill 'No type' for records with blank type value\n",
    "df['type'] = df['type'].fillna('No type')\n",
    "# Group by 'category' & 'subcategory' and fill NaN values with the mean of the group\n",
    "df['size_cv'] = df.groupby(['category','subcategory'])['size'].transform(lambda x: x.fillna(x.mean()))\n",
    "df['price_cv'] = df.groupby(['category','subcategory'])['price'].transform(lambda x: x.fillna(x.mean()))\n",
    "df.isna().sum()"
   ]
  },
  {
   "cell_type": "code",
   "execution_count": 7,
   "id": "c2bb558f-45d1-4ef6-b125-4fca67729c77",
   "metadata": {},
   "outputs": [
    {
     "data": {
      "text/plain": [
       "(12615, 17)"
      ]
     },
     "execution_count": 7,
     "metadata": {},
     "output_type": "execute_result"
    }
   ],
   "source": [
    "df.shape"
   ]
  },
  {
   "cell_type": "code",
   "execution_count": 8,
   "id": "2f93fb9c",
   "metadata": {},
   "outputs": [
    {
     "data": {
      "text/plain": [
       "Text(0.5, 1.0, 'Size_cv by Category')"
      ]
     },
     "execution_count": 8,
     "metadata": {},
     "output_type": "execute_result"
    },
    {
     "data": {
      "image/png": "[encoded data removed]",
      "text/plain": [
       "<Figure size 1200x900 with 4 Axes>"
      ]
     },
     "metadata": {},
     "output_type": "display_data"
    }
   ],
   "source": [
    "# check if the value after imputed with mean still have the same distribution\n",
    "fig, axes = plt.subplots(nrows=2, ncols=2, figsize=(12,9))\n",
    "sns.boxplot(ax=axes[0,0],x='category', y='price', data=df).set_title('Price by Category')\n",
    "sns.boxplot(ax=axes[0,1],x='category', y='price_cv', data=df).set_title('Price_cv by Category')\n",
    "sns.boxplot(ax=axes[1,0],x='category', y='size', data=df).set_title('Size by Category')\n",
    "sns.boxplot(ax=axes[1,1],x='category', y='size_cv', data=df).set_title('Size_cv by Category')"
   ]
  },
  {
   "cell_type": "markdown",
   "id": "1d4a8883",
   "metadata": {},
   "source": [
    "**Option 1: Classify brand by price across all products**"
   ]
  },
  {
   "cell_type": "code",
   "execution_count": 9,
   "id": "72a1b7fe",
   "metadata": {},
   "outputs": [],
   "source": [
    "# def classify_price(price):\n",
    "#     if price > 10000:\n",
    "#         return 'luxury brand'\n",
    "#     elif price < 2860:\n",
    "#         return 'budget'\n",
    "#     elif 2860 <= price <= 10000:\n",
    "#         return 'mid tier'\n",
    "# df['brand_group'] = df['price_cv'].apply(classify_price)\n",
    "\n",
    "# luxury_count = df[df['brand_group'] == 'luxury brand'].shape[0]\n",
    "# budget_count = df[df['brand_group'] == 'budget'].shape[0]\n",
    "# mid_tier_count = df[df['brand_group'] == 'mid tier'].shape[0]\n",
    "\n",
    "# print(luxury_count,mid_tier_count,budget_count,luxury_count+mid_tier_count+budget_count )\n",
    "# # print(df)"
   ]
  },
  {
   "cell_type": "markdown",
   "id": "ee7da5ec",
   "metadata": {},
   "source": [
    "**Option 2: Classify brand/product class by price percentile in each category**"
   ]
  },
  {
   "cell_type": "code",
   "execution_count": 10,
   "id": "abcf085c-19c3-4c24-a08e-9d5a0e4b688b",
   "metadata": {},
   "outputs": [],
   "source": [
    "# Function to classify based on percentiles\n",
    "def classify_price(x):\n",
    "    if x <= 0.6:\n",
    "        return 'Regular'\n",
    "    elif x <= 0.95:\n",
    "        return 'Premium'\n",
    "    else:\n",
    "        return 'Super Premium'"
   ]
  },
  {
   "cell_type": "code",
   "execution_count": 11,
   "id": "941a475d-b3e0-4e27-8d60-07f56ece2859",
   "metadata": {},
   "outputs": [],
   "source": [
    "# The DataFrame df is grouped by the values in the ‘category’ column.\n",
    "# The transform method applies a function to each group and returns a DataFrame with the same shape as the original.\n",
    "# For each group(category), the rank(pct=True) function computes the percentile rank of each value in the ‘price’ column.\n",
    "df['percentile'] = df.groupby('category')['price_cv'].transform(lambda x: x.rank(pct=True))\n",
    "# Basis percentile value computed at category group level, the product is classified as one of the 3 class of products.\n",
    "df['product_class'] = df['percentile'].apply(classify_price)"
   ]
  },
  {
   "cell_type": "code",
   "execution_count": 12,
   "id": "1353ec6c",
   "metadata": {},
   "outputs": [
    {
     "data": {
      "image/png": "[encoded data removed]",
      "text/plain": [
       "<Figure size 800x600 with 1 Axes>"
      ]
     },
     "metadata": {},
     "output_type": "display_data"
    }
   ],
   "source": [
    "# Create a count plot (bar chart)\n",
    "plt.figure(figsize=(8, 6))\n",
    "plt.title('Distribution of Product Classes')\n",
    "plt.xlabel('Product Class')\n",
    "plt.ylabel('Count')\n",
    "plt.xticks(rotation=45)  # Rotate x-axis labels for readability\n",
    "plt.grid(axis='y', linestyle='--', alpha=0.7)\n",
    "\n",
    "# Plot the counts\n",
    "plt.bar(df['product_class'].value_counts().index, df['product_class'].value_counts().values, color='skyblue')\n",
    "\n",
    "# Show the plot\n",
    "plt.tight_layout()\n",
    "plt.show()"
   ]
  },
  {
   "cell_type": "code",
   "execution_count": 13,
   "id": "8a0171e1-85af-4e71-83dc-add38349666f",
   "metadata": {},
   "outputs": [],
   "source": [
    "# To remove the whitespaces front and back and convert to lower\n",
    "df['brand'] = df['brand'].astype(str).str.strip().str.lower()"
   ]
  },
  {
   "cell_type": "code",
   "execution_count": 14,
   "id": "4fdc0e17",
   "metadata": {},
   "outputs": [
    {
     "name": "stdout",
     "output_type": "stream",
     "text": [
      "(1646, 3) 1646 (12615, 19)\n"
     ]
    },
    {
     "data": {
      "text/html": [
       "<div>\n",
       "<style scoped>\n",
       "    .dataframe tbody tr th:only-of-type {\n",
       "        vertical-align: middle;\n",
       "    }\n",
       "\n",
       "    .dataframe tbody tr th {\n",
       "        vertical-align: top;\n",
       "    }\n",
       "\n",
       "    .dataframe thead th {\n",
       "        text-align: right;\n",
       "    }\n",
       "</style>\n",
       "<table border=\"1\" class=\"dataframe\">\n",
       "  <thead>\n",
       "    <tr style=\"text-align: right;\">\n",
       "      <th></th>\n",
       "      <th>brand</th>\n",
       "      <th>brand_class</th>\n",
       "      <th>count</th>\n",
       "    </tr>\n",
       "  </thead>\n",
       "  <tbody>\n",
       "    <tr>\n",
       "      <th>0</th>\n",
       "      <td>100% pure</td>\n",
       "      <td>Premium</td>\n",
       "      <td>1</td>\n",
       "    </tr>\n",
       "    <tr>\n",
       "      <th>1</th>\n",
       "      <td>1000hour</td>\n",
       "      <td>Premium</td>\n",
       "      <td>1</td>\n",
       "    </tr>\n",
       "    <tr>\n",
       "      <th>2</th>\n",
       "      <td>18.21 man made</td>\n",
       "      <td>Regular</td>\n",
       "      <td>1</td>\n",
       "    </tr>\n",
       "  </tbody>\n",
       "</table>\n",
       "</div>"
      ],
      "text/plain": [
       "            brand brand_class  count\n",
       "0       100% pure     Premium      1\n",
       "1        1000hour     Premium      1\n",
       "2  18.21 man made     Regular      1"
      ]
     },
     "execution_count": 14,
     "metadata": {},
     "output_type": "execute_result"
    }
   ],
   "source": [
    "# Group by brand and product_class, and count occurrences\n",
    "product_class_counts = df.groupby(['brand', 'product_class']).size().reset_index(name='count')\n",
    "\n",
    "# Find the product class with the maximum count for each brand\n",
    "max_product_class = product_class_counts.loc[product_class_counts.groupby('brand')['count'].idxmax()]\n",
    "\n",
    "# Reset index for the final DataFrame\n",
    "max_product_class = max_product_class.reset_index(drop=True)\n",
    "max_product_class.rename(columns={'product_class':'brand_class'}, inplace=True)\n",
    "print(max_product_class.shape, df.brand.nunique(), df.shape)\n",
    "max_product_class.head(3)"
   ]
  },
  {
   "cell_type": "code",
   "execution_count": 15,
   "id": "1b76bcc8",
   "metadata": {},
   "outputs": [
    {
     "data": {
      "text/html": [
       "<div>\n",
       "<style scoped>\n",
       "    .dataframe tbody tr th:only-of-type {\n",
       "        vertical-align: middle;\n",
       "    }\n",
       "\n",
       "    .dataframe tbody tr th {\n",
       "        vertical-align: top;\n",
       "    }\n",
       "\n",
       "    .dataframe thead th {\n",
       "        text-align: right;\n",
       "    }\n",
       "</style>\n",
       "<table border=\"1\" class=\"dataframe\">\n",
       "  <thead>\n",
       "    <tr style=\"text-align: right;\">\n",
       "      <th></th>\n",
       "      <th>product_name</th>\n",
       "      <th>website</th>\n",
       "      <th>country</th>\n",
       "      <th>category</th>\n",
       "      <th>subcategory</th>\n",
       "      <th>title-href</th>\n",
       "      <th>price</th>\n",
       "      <th>brand</th>\n",
       "      <th>ingredients</th>\n",
       "      <th>form</th>\n",
       "      <th>type</th>\n",
       "      <th>color</th>\n",
       "      <th>size</th>\n",
       "      <th>rating</th>\n",
       "      <th>noofratings</th>\n",
       "      <th>size_cv</th>\n",
       "      <th>price_cv</th>\n",
       "      <th>percentile</th>\n",
       "      <th>product_class</th>\n",
       "      <th>brand_class</th>\n",
       "    </tr>\n",
       "  </thead>\n",
       "  <tbody>\n",
       "    <tr>\n",
       "      <th>0</th>\n",
       "      <td>Carlton London Incense Eau da parfum, Premium ...</td>\n",
       "      <td>Flipkart</td>\n",
       "      <td>India</td>\n",
       "      <td>body</td>\n",
       "      <td>perfume</td>\n",
       "      <td>https://www.amazon.in/Carlton-London-Limited-I...</td>\n",
       "      <td>599.0</td>\n",
       "      <td>carlton london</td>\n",
       "      <td>NaN</td>\n",
       "      <td>aerosol</td>\n",
       "      <td>No type</td>\n",
       "      <td>Top Note: Orange Blossom, Blackberry | Heart N...</td>\n",
       "      <td>100.0</td>\n",
       "      <td>3.9</td>\n",
       "      <td>19</td>\n",
       "      <td>100.0</td>\n",
       "      <td>599.0</td>\n",
       "      <td>0.257926</td>\n",
       "      <td>Regular</td>\n",
       "      <td>Regular</td>\n",
       "    </tr>\n",
       "    <tr>\n",
       "      <th>1</th>\n",
       "      <td>CHARLENE SPRAY MIST PERFUME 30 - INTIMATE (PAC...</td>\n",
       "      <td>Flipkart</td>\n",
       "      <td>India</td>\n",
       "      <td>body</td>\n",
       "      <td>perfume</td>\n",
       "      <td>https://www.amazon.in/CHARLENE-SPRAY-MIST-PERF...</td>\n",
       "      <td>149.0</td>\n",
       "      <td>charlene</td>\n",
       "      <td>NaN</td>\n",
       "      <td>aerosol</td>\n",
       "      <td>No type</td>\n",
       "      <td>Unit count type:</td>\n",
       "      <td>30.0</td>\n",
       "      <td>4.4</td>\n",
       "      <td>4,031</td>\n",
       "      <td>30.0</td>\n",
       "      <td>149.0</td>\n",
       "      <td>0.030528</td>\n",
       "      <td>Regular</td>\n",
       "      <td>Regular</td>\n",
       "    </tr>\n",
       "    <tr>\n",
       "      <th>2</th>\n",
       "      <td>CHARLENE SPRAY MIST PERFUME 30 - INTIMATE (PAC...</td>\n",
       "      <td>Flipkart</td>\n",
       "      <td>India</td>\n",
       "      <td>body</td>\n",
       "      <td>perfume</td>\n",
       "      <td>https://www.amazon.in/CHARLENE-SPRAY-MIST-PERF...</td>\n",
       "      <td>298.0</td>\n",
       "      <td>charlene</td>\n",
       "      <td>NaN</td>\n",
       "      <td>aerosol</td>\n",
       "      <td>No type</td>\n",
       "      <td>Unit count type:</td>\n",
       "      <td>30.0</td>\n",
       "      <td>4.4</td>\n",
       "      <td>4,072</td>\n",
       "      <td>30.0</td>\n",
       "      <td>298.0</td>\n",
       "      <td>0.120352</td>\n",
       "      <td>Regular</td>\n",
       "      <td>Regular</td>\n",
       "    </tr>\n",
       "    <tr>\n",
       "      <th>3</th>\n",
       "      <td>DENVER Black Code Perfume - 60 | Eau de Parfum...</td>\n",
       "      <td>Flipkart</td>\n",
       "      <td>India</td>\n",
       "      <td>body</td>\n",
       "      <td>perfume</td>\n",
       "      <td>https://www.amazon.in/DENVER-Black-Code-Perfum...</td>\n",
       "      <td>245.0</td>\n",
       "      <td>denver</td>\n",
       "      <td>NaN</td>\n",
       "      <td>aerosol</td>\n",
       "      <td>No type</td>\n",
       "      <td>Long-Lasting Scent</td>\n",
       "      <td>60.0</td>\n",
       "      <td>4.2</td>\n",
       "      <td>61</td>\n",
       "      <td>60.0</td>\n",
       "      <td>245.0</td>\n",
       "      <td>0.087084</td>\n",
       "      <td>Regular</td>\n",
       "      <td>Regular</td>\n",
       "    </tr>\n",
       "    <tr>\n",
       "      <th>4</th>\n",
       "      <td>Denver Hamilton Perfume - 100 | Long Lasting P...</td>\n",
       "      <td>Flipkart</td>\n",
       "      <td>India</td>\n",
       "      <td>body</td>\n",
       "      <td>perfume</td>\n",
       "      <td>https://www.amazon.in/Denver-Perfume-Hamilton-...</td>\n",
       "      <td>422.0</td>\n",
       "      <td>denver</td>\n",
       "      <td>NaN</td>\n",
       "      <td>aerosol</td>\n",
       "      <td>No type</td>\n",
       "      <td>Long-Lasting Scent</td>\n",
       "      <td>100.0</td>\n",
       "      <td>4.3</td>\n",
       "      <td>342</td>\n",
       "      <td>100.0</td>\n",
       "      <td>422.0</td>\n",
       "      <td>0.194912</td>\n",
       "      <td>Regular</td>\n",
       "      <td>Regular</td>\n",
       "    </tr>\n",
       "  </tbody>\n",
       "</table>\n",
       "</div>"
      ],
      "text/plain": [
       "                                        product_name   website country  \\\n",
       "0  Carlton London Incense Eau da parfum, Premium ...  Flipkart   India   \n",
       "1  CHARLENE SPRAY MIST PERFUME 30 - INTIMATE (PAC...  Flipkart   India   \n",
       "2  CHARLENE SPRAY MIST PERFUME 30 - INTIMATE (PAC...  Flipkart   India   \n",
       "3  DENVER Black Code Perfume - 60 | Eau de Parfum...  Flipkart   India   \n",
       "4  Denver Hamilton Perfume - 100 | Long Lasting P...  Flipkart   India   \n",
       "\n",
       "  category subcategory                                         title-href  \\\n",
       "0     body     perfume  https://www.amazon.in/Carlton-London-Limited-I...   \n",
       "1     body     perfume  https://www.amazon.in/CHARLENE-SPRAY-MIST-PERF...   \n",
       "2     body     perfume  https://www.amazon.in/CHARLENE-SPRAY-MIST-PERF...   \n",
       "3     body     perfume  https://www.amazon.in/DENVER-Black-Code-Perfum...   \n",
       "4     body     perfume  https://www.amazon.in/Denver-Perfume-Hamilton-...   \n",
       "\n",
       "   price           brand ingredients     form     type  \\\n",
       "0  599.0  carlton london         NaN  aerosol  No type   \n",
       "1  149.0        charlene         NaN  aerosol  No type   \n",
       "2  298.0        charlene         NaN  aerosol  No type   \n",
       "3  245.0          denver         NaN  aerosol  No type   \n",
       "4  422.0          denver         NaN  aerosol  No type   \n",
       "\n",
       "                                               color   size rating  \\\n",
       "0  Top Note: Orange Blossom, Blackberry | Heart N...  100.0    3.9   \n",
       "1                                   Unit count type:   30.0    4.4   \n",
       "2                                   Unit count type:   30.0    4.4   \n",
       "3                                 Long-Lasting Scent   60.0    4.2   \n",
       "4                                 Long-Lasting Scent  100.0    4.3   \n",
       "\n",
       "  noofratings  size_cv  price_cv  percentile product_class brand_class  \n",
       "0          19    100.0     599.0    0.257926       Regular     Regular  \n",
       "1       4,031     30.0     149.0    0.030528       Regular     Regular  \n",
       "2       4,072     30.0     298.0    0.120352       Regular     Regular  \n",
       "3          61     60.0     245.0    0.087084       Regular     Regular  \n",
       "4         342    100.0     422.0    0.194912       Regular     Regular  "
      ]
     },
     "execution_count": 15,
     "metadata": {},
     "output_type": "execute_result"
    }
   ],
   "source": [
    "df = df.merge(max_product_class[['brand', 'brand_class']], on = 'brand', how = 'left')\n",
    "df.head()"
   ]
  },
  {
   "cell_type": "markdown",
   "id": "b846d0e7",
   "metadata": {},
   "source": [
    "**rating/noofratings Column Transform:**  if noofratings is blank & rating >10, then rating is noofratings. For the rest impute missing values using mean/median of the sub-category"
   ]
  },
  {
   "cell_type": "code",
   "execution_count": 16,
   "id": "8e9c7a37",
   "metadata": {},
   "outputs": [],
   "source": [
    "df['rating'] = df['rating'].str.split(\" \").str[0]\n",
    "df['rating'] = df['rating'].str.replace(',', '')\n",
    "df['rating'] = pd.to_numeric(df['rating'], errors='coerce')\n",
    "incorrect_ratings = df['rating'] > 10\n",
    "df.loc[incorrect_ratings, 'noofratings'] = df.loc[incorrect_ratings, 'rating']\n",
    "df.loc[incorrect_ratings, 'rating'] = 0"
   ]
  },
  {
   "cell_type": "code",
   "execution_count": 17,
   "id": "6e181168",
   "metadata": {},
   "outputs": [],
   "source": [
    "def ratingno(point):\n",
    "    if point in ('Write A Review','No reviews','New to Amazon'):\n",
    "        point = 0\n",
    "    elif type(point)==str:\n",
    "        point=point.split(\" \")[0]\n",
    "        point=point.replace(\",\",\"\")\n",
    "        point=float(point)\n",
    "    return point\n",
    "df['noofratings_cv']=df['noofratings'].apply(ratingno)"
   ]
  },
  {
   "cell_type": "code",
   "execution_count": 18,
   "id": "777c08d1",
   "metadata": {},
   "outputs": [],
   "source": [
    "df['rating'] = df.groupby('subcategory')['rating'].transform(lambda x: x.fillna(x.mean()).mask((x == 0) | (x > 5), x.mean()))\n",
    "df['rating'] = df['rating'].round(1)"
   ]
  },
  {
   "cell_type": "code",
   "execution_count": 19,
   "id": "d3e47b63",
   "metadata": {},
   "outputs": [
    {
     "name": "stdout",
     "output_type": "stream",
     "text": [
      "(12615, 21)\n"
     ]
    },
    {
     "data": {
      "text/plain": [
       "product_name         0\n",
       "website              0\n",
       "country              0\n",
       "category             0\n",
       "subcategory          0\n",
       "title-href           0\n",
       "price              317\n",
       "brand                0\n",
       "ingredients       6015\n",
       "form                 0\n",
       "type                 0\n",
       "color             1989\n",
       "size              3166\n",
       "rating             674\n",
       "noofratings        405\n",
       "size_cv              0\n",
       "price_cv             0\n",
       "percentile           0\n",
       "product_class        0\n",
       "brand_class          0\n",
       "noofratings_cv     405\n",
       "dtype: int64"
      ]
     },
     "execution_count": 19,
     "metadata": {},
     "output_type": "execute_result"
    }
   ],
   "source": [
    "print(df.shape)\n",
    "df.isna().sum()"
   ]
  },
  {
   "cell_type": "code",
   "execution_count": 20,
   "id": "5e250a06",
   "metadata": {},
   "outputs": [
    {
     "data": {
      "text/html": [
       "<div>\n",
       "<style scoped>\n",
       "    .dataframe tbody tr th:only-of-type {\n",
       "        vertical-align: middle;\n",
       "    }\n",
       "\n",
       "    .dataframe tbody tr th {\n",
       "        vertical-align: top;\n",
       "    }\n",
       "\n",
       "    .dataframe thead th {\n",
       "        text-align: right;\n",
       "    }\n",
       "</style>\n",
       "<table border=\"1\" class=\"dataframe\">\n",
       "  <thead>\n",
       "    <tr style=\"text-align: right;\">\n",
       "      <th></th>\n",
       "      <th>product_name</th>\n",
       "      <th>website</th>\n",
       "      <th>country</th>\n",
       "      <th>category</th>\n",
       "      <th>subcategory</th>\n",
       "      <th>title-href</th>\n",
       "      <th>price</th>\n",
       "      <th>brand</th>\n",
       "      <th>ingredients</th>\n",
       "      <th>form</th>\n",
       "      <th>...</th>\n",
       "      <th>color</th>\n",
       "      <th>size</th>\n",
       "      <th>rating</th>\n",
       "      <th>noofratings</th>\n",
       "      <th>size_cv</th>\n",
       "      <th>price_cv</th>\n",
       "      <th>percentile</th>\n",
       "      <th>product_class</th>\n",
       "      <th>brand_class</th>\n",
       "      <th>noofratings_cv</th>\n",
       "    </tr>\n",
       "  </thead>\n",
       "  <tbody>\n",
       "    <tr>\n",
       "      <th>0</th>\n",
       "      <td>Carlton London Incense Eau da parfum, Premium ...</td>\n",
       "      <td>Flipkart</td>\n",
       "      <td>India</td>\n",
       "      <td>body</td>\n",
       "      <td>perfume</td>\n",
       "      <td>https://www.amazon.in/Carlton-London-Limited-I...</td>\n",
       "      <td>599.0</td>\n",
       "      <td>carlton london</td>\n",
       "      <td>NaN</td>\n",
       "      <td>aerosol</td>\n",
       "      <td>...</td>\n",
       "      <td>Top Note: Orange Blossom, Blackberry | Heart N...</td>\n",
       "      <td>100.0</td>\n",
       "      <td>3.9</td>\n",
       "      <td>19</td>\n",
       "      <td>100.0</td>\n",
       "      <td>599.0</td>\n",
       "      <td>0.257926</td>\n",
       "      <td>Regular</td>\n",
       "      <td>Regular</td>\n",
       "      <td>19.0</td>\n",
       "    </tr>\n",
       "    <tr>\n",
       "      <th>1</th>\n",
       "      <td>CHARLENE SPRAY MIST PERFUME 30 - INTIMATE (PAC...</td>\n",
       "      <td>Flipkart</td>\n",
       "      <td>India</td>\n",
       "      <td>body</td>\n",
       "      <td>perfume</td>\n",
       "      <td>https://www.amazon.in/CHARLENE-SPRAY-MIST-PERF...</td>\n",
       "      <td>149.0</td>\n",
       "      <td>charlene</td>\n",
       "      <td>NaN</td>\n",
       "      <td>aerosol</td>\n",
       "      <td>...</td>\n",
       "      <td>Unit count type:</td>\n",
       "      <td>30.0</td>\n",
       "      <td>4.4</td>\n",
       "      <td>4,031</td>\n",
       "      <td>30.0</td>\n",
       "      <td>149.0</td>\n",
       "      <td>0.030528</td>\n",
       "      <td>Regular</td>\n",
       "      <td>Regular</td>\n",
       "      <td>4031.0</td>\n",
       "    </tr>\n",
       "    <tr>\n",
       "      <th>2</th>\n",
       "      <td>CHARLENE SPRAY MIST PERFUME 30 - INTIMATE (PAC...</td>\n",
       "      <td>Flipkart</td>\n",
       "      <td>India</td>\n",
       "      <td>body</td>\n",
       "      <td>perfume</td>\n",
       "      <td>https://www.amazon.in/CHARLENE-SPRAY-MIST-PERF...</td>\n",
       "      <td>298.0</td>\n",
       "      <td>charlene</td>\n",
       "      <td>NaN</td>\n",
       "      <td>aerosol</td>\n",
       "      <td>...</td>\n",
       "      <td>Unit count type:</td>\n",
       "      <td>30.0</td>\n",
       "      <td>4.4</td>\n",
       "      <td>4,072</td>\n",
       "      <td>30.0</td>\n",
       "      <td>298.0</td>\n",
       "      <td>0.120352</td>\n",
       "      <td>Regular</td>\n",
       "      <td>Regular</td>\n",
       "      <td>4072.0</td>\n",
       "    </tr>\n",
       "  </tbody>\n",
       "</table>\n",
       "<p>3 rows × 21 columns</p>\n",
       "</div>"
      ],
      "text/plain": [
       "                                        product_name   website country  \\\n",
       "0  Carlton London Incense Eau da parfum, Premium ...  Flipkart   India   \n",
       "1  CHARLENE SPRAY MIST PERFUME 30 - INTIMATE (PAC...  Flipkart   India   \n",
       "2  CHARLENE SPRAY MIST PERFUME 30 - INTIMATE (PAC...  Flipkart   India   \n",
       "\n",
       "  category subcategory                                         title-href  \\\n",
       "0     body     perfume  https://www.amazon.in/Carlton-London-Limited-I...   \n",
       "1     body     perfume  https://www.amazon.in/CHARLENE-SPRAY-MIST-PERF...   \n",
       "2     body     perfume  https://www.amazon.in/CHARLENE-SPRAY-MIST-PERF...   \n",
       "\n",
       "   price           brand ingredients     form  ...  \\\n",
       "0  599.0  carlton london         NaN  aerosol  ...   \n",
       "1  149.0        charlene         NaN  aerosol  ...   \n",
       "2  298.0        charlene         NaN  aerosol  ...   \n",
       "\n",
       "                                               color   size  rating  \\\n",
       "0  Top Note: Orange Blossom, Blackberry | Heart N...  100.0     3.9   \n",
       "1                                   Unit count type:   30.0     4.4   \n",
       "2                                   Unit count type:   30.0     4.4   \n",
       "\n",
       "   noofratings size_cv  price_cv  percentile  product_class brand_class  \\\n",
       "0           19   100.0     599.0    0.257926        Regular     Regular   \n",
       "1        4,031    30.0     149.0    0.030528        Regular     Regular   \n",
       "2        4,072    30.0     298.0    0.120352        Regular     Regular   \n",
       "\n",
       "  noofratings_cv  \n",
       "0           19.0  \n",
       "1         4031.0  \n",
       "2         4072.0  \n",
       "\n",
       "[3 rows x 21 columns]"
      ]
     },
     "execution_count": 20,
     "metadata": {},
     "output_type": "execute_result"
    }
   ],
   "source": [
    "df.head(3)"
   ]
  },
  {
   "cell_type": "code",
   "execution_count": 21,
   "id": "06ddf2cf-bc49-42ae-b7f1-bbfd3bd17157",
   "metadata": {},
   "outputs": [
    {
     "data": {
      "text/plain": [
       "product_name      11341\n",
       "website               5\n",
       "country               2\n",
       "category              6\n",
       "subcategory          36\n",
       "title-href        12244\n",
       "price              1975\n",
       "brand              1646\n",
       "ingredients        4839\n",
       "form                 25\n",
       "type                134\n",
       "color              3357\n",
       "size                526\n",
       "rating               37\n",
       "noofratings        2143\n",
       "size_cv             549\n",
       "price_cv           1989\n",
       "percentile         3443\n",
       "product_class         3\n",
       "brand_class           3\n",
       "noofratings_cv     1915\n",
       "dtype: int64"
      ]
     },
     "execution_count": 21,
     "metadata": {},
     "output_type": "execute_result"
    }
   ],
   "source": [
    "df.nunique()"
   ]
  },
  {
   "cell_type": "code",
   "execution_count": 22,
   "id": "681abd95-6f8b-4cf9-ac76-88252f61d931",
   "metadata": {},
   "outputs": [],
   "source": [
    "# df.to_csv(\"C:\\\\Users\\\\aksha\\\\OneDrive\\\\Documents\\\\mitb_sem2\\\\DSB\\\\group_project\\\\cosmetics\\\\cosmetics_TP_final.csv\",index=False)"
   ]
  },
  {
   "cell_type": "raw",
   "id": "76e54873-56c6-4b1f-a95f-1df6665d5cbb",
   "metadata": {},
   "source": [
    "##############################################################################################################"
   ]
  },
  {
   "cell_type": "markdown",
   "id": "c36a67a2-095a-4d78-b487-0ce911ba4e18",
   "metadata": {},
   "source": [
    "### Convert to lower case before use all categorical\n",
    "### Merge with loreal's dataset and use that categorical column instead of website, there too convert to categorical\n",
    "### Write overall observations and per category whatever visible"
   ]
  },
  {
   "cell_type": "code",
   "execution_count": 23,
   "id": "f73338ae-20ee-40fa-9933-a1a505311e29",
   "metadata": {},
   "outputs": [],
   "source": [
    "from sklearn.linear_model import LinearRegression\n",
    "from sklearn.preprocessing import OneHotEncoder\n",
    "from sklearn.compose import ColumnTransformer\n",
    "from sklearn.pipeline import Pipeline\n",
    "from sklearn.impute import SimpleImputer"
   ]
  },
  {
   "cell_type": "code",
   "execution_count": 24,
   "id": "165993a6-cb7e-4afd-9a42-eccf0f1f4c3d",
   "metadata": {},
   "outputs": [
    {
     "data": {
      "text/plain": [
       "Index(['product_name', 'website', 'country', 'category', 'subcategory',\n",
       "       'title-href', 'price', 'brand', 'ingredients', 'form', 'type', 'color',\n",
       "       'size', 'rating', 'noofratings', 'size_cv', 'price_cv', 'percentile',\n",
       "       'product_class', 'brand_class', 'noofratings_cv'],\n",
       "      dtype='object')"
      ]
     },
     "execution_count": 24,
     "metadata": {},
     "output_type": "execute_result"
    }
   ],
   "source": [
    "df.columns"
   ]
  },
  {
   "cell_type": "code",
   "execution_count": 25,
   "id": "07e33d7d-6c0e-41c6-8223-b27f913e7218",
   "metadata": {},
   "outputs": [
    {
     "data": {
      "text/html": [
       "<div>\n",
       "<style scoped>\n",
       "    .dataframe tbody tr th:only-of-type {\n",
       "        vertical-align: middle;\n",
       "    }\n",
       "\n",
       "    .dataframe tbody tr th {\n",
       "        vertical-align: top;\n",
       "    }\n",
       "\n",
       "    .dataframe thead th {\n",
       "        text-align: right;\n",
       "    }\n",
       "</style>\n",
       "<table border=\"1\" class=\"dataframe\">\n",
       "  <thead>\n",
       "    <tr style=\"text-align: right;\">\n",
       "      <th></th>\n",
       "      <th>brand</th>\n",
       "      <th>global/local</th>\n",
       "    </tr>\n",
       "  </thead>\n",
       "  <tbody>\n",
       "    <tr>\n",
       "      <th>0</th>\n",
       "      <td>Da Bomb</td>\n",
       "      <td>global</td>\n",
       "    </tr>\n",
       "    <tr>\n",
       "      <th>1</th>\n",
       "      <td>Dionis</td>\n",
       "      <td>global</td>\n",
       "    </tr>\n",
       "    <tr>\n",
       "      <th>2</th>\n",
       "      <td>Dr Teal's</td>\n",
       "      <td>global</td>\n",
       "    </tr>\n",
       "  </tbody>\n",
       "</table>\n",
       "</div>"
      ],
      "text/plain": [
       "       brand global/local\n",
       "0    Da Bomb    global   \n",
       "1     Dionis    global   \n",
       "2  Dr Teal's    global   "
      ]
     },
     "execution_count": 25,
     "metadata": {},
     "output_type": "execute_result"
    }
   ],
   "source": [
    "# Importing GLobal Local Lorielle file\n",
    "g_l = pd.read_csv(\"C:\\\\Users\\\\aksha\\\\OneDrive\\\\Documents\\\\mitb_sem2\\\\DSB\\\\group_project\\\\cosmetics\\\\Global_Local_Categorization_2.csv\", encoding=\"latin-1\",header=0)\n",
    "g_l.head(3)"
   ]
  },
  {
   "cell_type": "code",
   "execution_count": 26,
   "id": "55529753-f7e8-47d0-b797-6fd5a0598af5",
   "metadata": {},
   "outputs": [],
   "source": [
    "# Converting categorical columns to lowercase\n",
    "\n",
    "df['product_class'] = df['product_class'].astype(str).str.strip().str.lower()\n",
    "df['brand_class'] = df['brand_class'].astype(str).str.strip().str.lower()\n",
    "\n",
    "g_l['brand'] = g_l['brand'].astype(str).str.strip().str.lower()\n",
    "g_l['global/local'] = g_l['global/local'].astype(str).str.strip().str.lower()"
   ]
  },
  {
   "cell_type": "code",
   "execution_count": 27,
   "id": "4b01213d-2c2b-4750-80cb-3fc014f59dad",
   "metadata": {},
   "outputs": [
    {
     "data": {
      "text/html": [
       "<div>\n",
       "<style scoped>\n",
       "    .dataframe tbody tr th:only-of-type {\n",
       "        vertical-align: middle;\n",
       "    }\n",
       "\n",
       "    .dataframe tbody tr th {\n",
       "        vertical-align: top;\n",
       "    }\n",
       "\n",
       "    .dataframe thead th {\n",
       "        text-align: right;\n",
       "    }\n",
       "</style>\n",
       "<table border=\"1\" class=\"dataframe\">\n",
       "  <thead>\n",
       "    <tr style=\"text-align: right;\">\n",
       "      <th></th>\n",
       "      <th>brand</th>\n",
       "      <th>global/local</th>\n",
       "    </tr>\n",
       "  </thead>\n",
       "  <tbody>\n",
       "    <tr>\n",
       "      <th>0</th>\n",
       "      <td>da bomb</td>\n",
       "      <td>global</td>\n",
       "    </tr>\n",
       "    <tr>\n",
       "      <th>1</th>\n",
       "      <td>dionis</td>\n",
       "      <td>global</td>\n",
       "    </tr>\n",
       "    <tr>\n",
       "      <th>2</th>\n",
       "      <td>dr teal's</td>\n",
       "      <td>global</td>\n",
       "    </tr>\n",
       "  </tbody>\n",
       "</table>\n",
       "</div>"
      ],
      "text/plain": [
       "       brand global/local\n",
       "0    da bomb       global\n",
       "1     dionis       global\n",
       "2  dr teal's       global"
      ]
     },
     "execution_count": 27,
     "metadata": {},
     "output_type": "execute_result"
    }
   ],
   "source": [
    "g_l.head(3)"
   ]
  },
  {
   "cell_type": "code",
   "execution_count": 28,
   "id": "104eca7c-1059-4f58-bcbc-e3f6cd8ca4fd",
   "metadata": {},
   "outputs": [
    {
     "data": {
      "text/plain": [
       "brand           266\n",
       "global/local      3\n",
       "dtype: int64"
      ]
     },
     "execution_count": 28,
     "metadata": {},
     "output_type": "execute_result"
    }
   ],
   "source": [
    "g_l.nunique()"
   ]
  },
  {
   "cell_type": "code",
   "execution_count": 29,
   "id": "e3bb73da-5d09-4199-a475-a0446c0bbf8b",
   "metadata": {},
   "outputs": [
    {
     "data": {
      "text/plain": [
       "array(['global', 'local', 'other'], dtype=object)"
      ]
     },
     "execution_count": 29,
     "metadata": {},
     "output_type": "execute_result"
    }
   ],
   "source": [
    "g_l['global/local'].unique()"
   ]
  },
  {
   "cell_type": "code",
   "execution_count": 30,
   "id": "ae179107-5325-497c-9133-7d499854f3fd",
   "metadata": {},
   "outputs": [
    {
     "data": {
      "text/plain": [
       "(Index(['product_name', 'website', 'country', 'category', 'subcategory',\n",
       "        'title-href', 'price', 'brand', 'ingredients', 'form', 'type', 'color',\n",
       "        'size', 'rating', 'noofratings', 'size_cv', 'price_cv', 'percentile',\n",
       "        'product_class', 'brand_class', 'noofratings_cv'],\n",
       "       dtype='object'),\n",
       " (12615, 21))"
      ]
     },
     "execution_count": 30,
     "metadata": {},
     "output_type": "execute_result"
    }
   ],
   "source": [
    "df.columns, df.shape"
   ]
  },
  {
   "cell_type": "code",
   "execution_count": 31,
   "id": "160c6345-e832-4171-ab82-c7b668713491",
   "metadata": {},
   "outputs": [
    {
     "data": {
      "text/plain": [
       "Index(['product_name', 'website', 'country', 'category', 'subcategory',\n",
       "       'title-href', 'price', 'brand', 'ingredients', 'form', 'type', 'color',\n",
       "       'size', 'rating', 'noofratings', 'size_cv', 'price_cv', 'percentile',\n",
       "       'product_class', 'brand_class', 'noofratings_cv', 'global/local'],\n",
       "      dtype='object')"
      ]
     },
     "execution_count": 31,
     "metadata": {},
     "output_type": "execute_result"
    }
   ],
   "source": [
    "df = df.merge(g_l, on = 'brand', how = 'left')\n",
    "del g_l\n",
    "df.columns"
   ]
  },
  {
   "cell_type": "code",
   "execution_count": 32,
   "id": "ec1f3583-8386-47df-adfc-a3d6a4390d5e",
   "metadata": {},
   "outputs": [
    {
     "data": {
      "text/plain": [
       "product_name         0\n",
       "website              0\n",
       "country              0\n",
       "category             0\n",
       "subcategory          0\n",
       "title-href           0\n",
       "price              317\n",
       "brand                0\n",
       "ingredients       6015\n",
       "form                 0\n",
       "type                 0\n",
       "color             1989\n",
       "size              3166\n",
       "rating             674\n",
       "noofratings        405\n",
       "size_cv              0\n",
       "price_cv             0\n",
       "percentile           0\n",
       "product_class        0\n",
       "brand_class          0\n",
       "noofratings_cv     405\n",
       "global/local      7729\n",
       "dtype: int64"
      ]
     },
     "execution_count": 32,
     "metadata": {},
     "output_type": "execute_result"
    }
   ],
   "source": [
    "df.isna().sum()"
   ]
  },
  {
   "cell_type": "code",
   "execution_count": 33,
   "id": "7ce9161b-68e7-4fc8-9a4b-3a30ab9356e1",
   "metadata": {},
   "outputs": [],
   "source": [
    "df[['global/local']] = df[['global/local']].fillna('other')"
   ]
  },
  {
   "cell_type": "code",
   "execution_count": 34,
   "id": "394131f7-ae29-4007-b4e0-de8c768fa1d5",
   "metadata": {},
   "outputs": [],
   "source": [
    "# # Function to perform linear regression category-wise\n",
    "# def linear_regression_category_wise(df, category_col, dependent_var):\n",
    "#     categories = df[category_col].unique()\n",
    "#     results = {}\n",
    "\n",
    "#     # Define the column transformer\n",
    "#     preprocessor = ColumnTransformer(\n",
    "#         transformers=[\n",
    "#             ('cat', OneHotEncoder(), ['website', 'product_class', 'brand_class']),\n",
    "#             ('num', SimpleImputer(strategy='median'), ['noofratings_cv', 'size_cv', 'rating'])\n",
    "#         ])\n",
    "\n",
    "#     # Create a pipeline that includes preprocessing and regression\n",
    "#     model = Pipeline(steps=[\n",
    "#         ('preprocessor', preprocessor),\n",
    "#         ('regressor', LinearRegression())\n",
    "#     ])\n",
    "\n",
    "#     for category in categories:\n",
    "#         df_category = df[df[category_col] == category]\n",
    "#         X = df_category.drop(columns=[category_col, dependent_var])\n",
    "#         y = df_category[dependent_var]\n",
    "\n",
    "#         model.fit(X, y)\n",
    "\n",
    "#         results[category] = {\n",
    "#             'coefficients': model.named_steps['regressor'].coef_,\n",
    "#             'intercept': model.named_steps['regressor'].intercept_,\n",
    "#             'r_squared': model.score(X, y)\n",
    "#         }\n",
    "\n",
    "#     return results\n",
    "\n",
    "# # Run the linear regression for each category and print the results\n",
    "# results = linear_regression_category_wise(df, 'category', 'price_cv')\n",
    "\n",
    "# for category, result in results.items():\n",
    "#     print(f\"Category: {category}\")\n",
    "#     print(f\"  Coefficients: {result['coefficients']}\")\n",
    "#     print(f\"  Intercept: {result['intercept']}\")\n",
    "#     print(f\"  R-squared: {result['r_squared']}\\n\")"
   ]
  },
  {
   "cell_type": "code",
   "execution_count": 35,
   "id": "90d0933f-2869-4017-82cc-40524bc45825",
   "metadata": {},
   "outputs": [
    {
     "name": "stdout",
     "output_type": "stream",
     "text": [
      "Category: body\n",
      "  Feature Names: ['cat__global/local_global' 'cat__global/local_local'\n",
      " 'cat__global/local_other' 'cat__product_class_premium'\n",
      " 'cat__product_class_regular' 'cat__product_class_super premium'\n",
      " 'cat__brand_class_premium' 'cat__brand_class_regular'\n",
      " 'cat__brand_class_super premium' 'num__noofratings_cv' 'num__size_cv'\n",
      " 'num__rating']\n",
      "  Coefficients: [ 2.31500168e+02 -2.39525898e+02  8.02572993e+00 -9.74685863e+02\n",
      " -5.18554105e+03  6.16022692e+03 -1.59807729e+03 -2.80485070e+03\n",
      "  4.40292799e+03 -3.85361686e-03 -4.64179868e-01  8.21317002e+01]\n",
      "  Intercept: 8540.531511421063\n",
      "  R-squared: 0.7104837273206248\n",
      "\n",
      "Category: eyes\n",
      "  Feature Names: ['cat__global/local_global' 'cat__global/local_local'\n",
      " 'cat__global/local_other' 'cat__product_class_premium'\n",
      " 'cat__product_class_regular' 'cat__product_class_super premium'\n",
      " 'cat__brand_class_premium' 'cat__brand_class_regular'\n",
      " 'cat__brand_class_super premium' 'num__noofratings_cv' 'num__size_cv'\n",
      " 'num__rating']\n",
      "  Coefficients: [ 2.11628757e+02 -3.32718676e+02  1.21089919e+02 -1.79720417e+03\n",
      " -4.44476526e+03  6.24196943e+03  2.73353253e+02 -1.02471970e+02\n",
      " -1.70881283e+02 -1.38943907e-02 -4.70922629e-03  1.59388945e+02]\n",
      "  Intercept: 4697.888661825331\n",
      "  R-squared: 0.724944113859401\n",
      "\n",
      "Category: face\n",
      "  Feature Names: ['cat__global/local_global' 'cat__global/local_local'\n",
      " 'cat__global/local_other' 'cat__product_class_premium'\n",
      " 'cat__product_class_regular' 'cat__product_class_super premium'\n",
      " 'cat__brand_class_premium' 'cat__brand_class_regular'\n",
      " 'cat__brand_class_super premium' 'num__noofratings_cv' 'num__size_cv'\n",
      " 'num__rating']\n",
      "  Coefficients: [ 7.34400960e+01 -2.47428267e+02  1.73988171e+02 -7.95069624e+02\n",
      " -2.37819019e+03  3.17325982e+03 -8.59435830e+03 -9.55633189e+03\n",
      "  1.81506902e+04  7.71174470e-03  3.36334771e+00 -3.66973598e+01]\n",
      "  Intercept: 12585.769856139095\n",
      "  R-squared: 0.5658859718035203\n",
      "\n",
      "Category: hair\n",
      "  Feature Names: ['cat__global/local_global' 'cat__global/local_local'\n",
      " 'cat__global/local_other' 'cat__product_class_premium'\n",
      " 'cat__product_class_regular' 'cat__product_class_super premium'\n",
      " 'cat__brand_class_premium' 'cat__brand_class_regular'\n",
      " 'cat__brand_class_super premium' 'num__noofratings_cv' 'num__size_cv'\n",
      " 'num__rating']\n",
      "  Coefficients: [ 9.94267346e+01 -1.26393517e+02  2.69667825e+01 -1.07780917e+03\n",
      " -2.70587575e+03  3.78368492e+03  5.12840363e+02  1.04063095e+03\n",
      " -1.55347132e+03 -2.57798881e-02  9.31121586e-02 -1.11981411e+02]\n",
      "  Intercept: 2518.250816236048\n",
      "  R-squared: 0.30723605944782717\n",
      "\n",
      "Category: lips\n",
      "  Feature Names: ['cat__global/local_global' 'cat__global/local_local'\n",
      " 'cat__global/local_other' 'cat__product_class_premium'\n",
      " 'cat__product_class_regular' 'cat__product_class_super premium'\n",
      " 'cat__brand_class_premium' 'cat__brand_class_regular'\n",
      " 'cat__brand_class_super premium' 'num__noofratings_cv' 'num__size_cv'\n",
      " 'num__rating']\n",
      "  Coefficients: [ 3.16039820e+01 -5.90845655e+01  2.74805835e+01 -6.54999619e+02\n",
      " -1.97962512e+03  2.63462474e+03 -2.98606853e+02 -3.94367474e+02\n",
      "  6.92974327e+02 -7.43728000e-03 -7.41050150e-02  1.58833183e+02]\n",
      "  Intercept: 2268.1619508055724\n",
      "  R-squared: 0.4062513538993737\n",
      "\n",
      "Category: skincare\n",
      "  Feature Names: ['cat__global/local_global' 'cat__global/local_local'\n",
      " 'cat__global/local_other' 'cat__product_class_premium'\n",
      " 'cat__product_class_regular' 'cat__product_class_super premium'\n",
      " 'cat__brand_class_premium' 'cat__brand_class_regular'\n",
      " 'cat__brand_class_super premium' 'num__noofratings_cv' 'num__size_cv'\n",
      " 'num__rating']\n",
      "  Coefficients: [ 1.65177606e+02 -3.49194045e+02  1.84016440e+02 -1.21146851e+03\n",
      " -3.41798195e+03  4.62945046e+03  3.41558286e+02 -3.41558286e+02\n",
      " -1.21787474e-02 -1.16152890e+00  2.17782077e+02]\n",
      "  Intercept: 3870.3369171210466\n",
      "  R-squared: 0.7275491977306001\n",
      "\n"
     ]
    }
   ],
   "source": [
    "import pandas as pd\n",
    "from sklearn.compose import ColumnTransformer\n",
    "from sklearn.preprocessing import OneHotEncoder\n",
    "from sklearn.impute import SimpleImputer\n",
    "from sklearn.pipeline import Pipeline\n",
    "from sklearn.linear_model import LinearRegression\n",
    "\n",
    "# Function to perform linear regression category-wise\n",
    "def linear_regression_category_wise(df, category_col, dependent_var):\n",
    "    categories = df[category_col].unique()\n",
    "    results = {}\n",
    "\n",
    "    # Define the column transformer\n",
    "    preprocessor = ColumnTransformer(\n",
    "        transformers=[\n",
    "            ('cat', OneHotEncoder(), ['global/local', 'product_class', 'brand_class']),\n",
    "            ('num', SimpleImputer(strategy='median'), ['noofratings_cv', 'size_cv', 'rating'])\n",
    "        ])\n",
    "\n",
    "    # Create a pipeline that includes preprocessing and regression\n",
    "    model = Pipeline(steps=[\n",
    "        ('preprocessor', preprocessor),\n",
    "        ('regressor', LinearRegression())\n",
    "    ])\n",
    "\n",
    "    # Fit the preprocessor to extract feature names\n",
    "    preprocessor.fit(df.drop(columns=[category_col, dependent_var]))\n",
    "    feature_names = preprocessor.get_feature_names_out()\n",
    "\n",
    "    for category in categories:\n",
    "        df_category = df[df[category_col] == category]\n",
    "        X = df_category.drop(columns=[category_col, dependent_var])\n",
    "        y = df_category[dependent_var]\n",
    "\n",
    "        model.fit(X, y)\n",
    "\n",
    "        results[category] = {\n",
    "            'coefficients': model.named_steps['regressor'].coef_,\n",
    "            'intercept': model.named_steps['regressor'].intercept_,\n",
    "            'r_squared': model.score(X, y),\n",
    "            'feature_names': feature_names\n",
    "        }\n",
    "\n",
    "    return results\n",
    "\n",
    "# Calculating Ratings\n",
    "results = linear_regression_category_wise(df, 'category', 'price_cv')\n",
    "\n",
    "for category, result in results.items():\n",
    "    print(f\"Category: {category}\")\n",
    "    print(f\"  Feature Names: {result['feature_names']}\")\n",
    "    print(f\"  Coefficients: {result['coefficients']}\")\n",
    "    print(f\"  Intercept: {result['intercept']}\")\n",
    "    print(f\"  R-squared: {result['r_squared']}\\n\")\n"
   ]
  },
  {
   "cell_type": "code",
   "execution_count": 36,
   "id": "47fa7c18-5a2f-47c2-baaa-9d2840e64538",
   "metadata": {},
   "outputs": [
    {
     "name": "stdout",
     "output_type": "stream",
     "text": [
      "Category: body\n",
      "  Feature Names: ['cat__global/local_global' 'cat__global/local_local'\n",
      " 'cat__global/local_other' 'cat__product_class_premium'\n",
      " 'cat__product_class_regular' 'cat__product_class_super premium'\n",
      " 'cat__brand_class_premium' 'cat__brand_class_regular'\n",
      " 'cat__brand_class_super premium' 'num__noofratings_cv' 'num__size_cv']\n",
      "  Coefficients: [ 2.34321538e+02 -2.37357259e+02  3.03572171e+00 -9.75712013e+02\n",
      " -5.18932483e+03  6.16503685e+03 -1.58878602e+03 -2.80496039e+03\n",
      "  4.39374641e+03 -3.70317507e-03 -4.51120715e-01]\n",
      "  Intercept: 8892.590896455527\n",
      "  R-squared: 0.7104267605666749\n",
      "\n",
      "Category: eyes\n",
      "  Feature Names: ['cat__global/local_global' 'cat__global/local_local'\n",
      " 'cat__global/local_other' 'cat__product_class_premium'\n",
      " 'cat__product_class_regular' 'cat__product_class_super premium'\n",
      " 'cat__brand_class_premium' 'cat__brand_class_regular'\n",
      " 'cat__brand_class_super premium' 'num__noofratings_cv' 'num__size_cv']\n",
      "  Coefficients: [ 2.13851722e+02 -3.20224918e+02  1.06373196e+02 -1.79520581e+03\n",
      " -4.45657088e+03  6.25177669e+03  2.88590056e+02 -1.11765419e+02\n",
      " -1.76824638e+02 -1.17914721e-02 -2.23638362e-03]\n",
      "  Intercept: 5352.46333155066\n",
      "  R-squared: 0.7242085938135554\n",
      "\n",
      "Category: face\n",
      "  Feature Names: ['cat__global/local_global' 'cat__global/local_local'\n",
      " 'cat__global/local_other' 'cat__product_class_premium'\n",
      " 'cat__product_class_regular' 'cat__product_class_super premium'\n",
      " 'cat__brand_class_premium' 'cat__brand_class_regular'\n",
      " 'cat__brand_class_super premium' 'num__noofratings_cv' 'num__size_cv']\n",
      "  Coefficients: [ 7.23561763e+01 -2.50684343e+02  1.78328167e+02 -7.94694491e+02\n",
      " -2.38146876e+03  3.17616325e+03 -8.58507350e+03 -9.55660643e+03\n",
      "  1.81416799e+04  7.05080368e-03  3.33497079e+00]\n",
      "  Intercept: 12448.65229016534\n",
      "  R-squared: 0.5658501866735044\n",
      "\n",
      "Category: hair\n",
      "  Feature Names: ['cat__global/local_global' 'cat__global/local_local'\n",
      " 'cat__global/local_other' 'cat__product_class_premium'\n",
      " 'cat__product_class_regular' 'cat__product_class_super premium'\n",
      " 'cat__brand_class_premium' 'cat__brand_class_regular'\n",
      " 'cat__brand_class_super premium' 'num__noofratings_cv' 'num__size_cv']\n",
      "  Coefficients: [ 8.98243935e+01 -1.21465442e+02  3.16410488e+01 -1.07824827e+03\n",
      " -2.70333685e+03  3.78158512e+03  5.20468099e+02  1.04644326e+03\n",
      " -1.56691136e+03 -2.58067464e-02  9.45604384e-02]\n",
      "  Intercept: 2024.018510618058\n",
      "  R-squared: 0.30712512402443826\n",
      "\n",
      "Category: lips\n",
      "  Feature Names: ['cat__global/local_global' 'cat__global/local_local'\n",
      " 'cat__global/local_other' 'cat__product_class_premium'\n",
      " 'cat__product_class_regular' 'cat__product_class_super premium'\n",
      " 'cat__brand_class_premium' 'cat__brand_class_regular'\n",
      " 'cat__brand_class_super premium' 'num__noofratings_cv' 'num__size_cv']\n",
      "  Coefficients: [ 3.49482703e+01 -5.16649437e+01  1.67166734e+01 -6.43935831e+02\n",
      " -2.01297037e+03  2.65690620e+03 -3.06528963e+02 -3.95487459e+02\n",
      "  7.02016421e+02 -5.70746089e-03 -4.07239392e-02]\n",
      "  Intercept: 2935.4718843662927\n",
      "  R-squared: 0.40464764154581034\n",
      "\n",
      "Category: skincare\n",
      "  Feature Names: ['cat__global/local_global' 'cat__global/local_local'\n",
      " 'cat__global/local_other' 'cat__product_class_premium'\n",
      " 'cat__product_class_regular' 'cat__product_class_super premium'\n",
      " 'cat__brand_class_premium' 'cat__brand_class_regular'\n",
      " 'cat__brand_class_super premium' 'num__noofratings_cv' 'num__size_cv']\n",
      "  Coefficients: [ 1.84215129e+02 -3.61507982e+02  1.77292852e+02 -1.20783173e+03\n",
      " -3.41748908e+03  4.62532081e+03  3.46014513e+02 -3.46014513e+02\n",
      " -1.22811400e-02 -1.13284738e+00]\n",
      "  Intercept: 4807.691142074822\n",
      "  R-squared: 0.7268493843000992\n",
      "\n"
     ]
    }
   ],
   "source": [
    "# import pandas as pd\n",
    "# from sklearn.compose import ColumnTransformer\n",
    "# from sklearn.preprocessing import OneHotEncoder\n",
    "# from sklearn.impute import SimpleImputer\n",
    "# from sklearn.pipeline import Pipeline\n",
    "# from sklearn.linear_model import LinearRegression\n",
    "\n",
    "# # Function to perform linear regression category-wise\n",
    "# def linear_regression_category_wise(df, category_col, dependent_var):\n",
    "#     categories = df[category_col].unique()\n",
    "#     results = {}\n",
    "\n",
    "#     # Define the column transformer\n",
    "#     preprocessor = ColumnTransformer(\n",
    "#         transformers=[\n",
    "#             ('cat', OneHotEncoder(), ['global/local', 'product_class', 'brand_class']),\n",
    "#             ('num', SimpleImputer(strategy='median'), ['noofratings_cv', 'size_cv'])\n",
    "#         ])\n",
    "\n",
    "#     # Create a pipeline that includes preprocessing and regression\n",
    "#     model = Pipeline(steps=[\n",
    "#         ('preprocessor', preprocessor),\n",
    "#         ('regressor', LinearRegression())\n",
    "#     ])\n",
    "\n",
    "#     # Fit the preprocessor to extract feature names\n",
    "#     preprocessor.fit(df.drop(columns=[category_col, dependent_var]))\n",
    "#     feature_names = preprocessor.get_feature_names_out()\n",
    "\n",
    "#     for category in categories:\n",
    "#         df_category = df[df[category_col] == category]\n",
    "#         X = df_category.drop(columns=[category_col, dependent_var])\n",
    "#         y = df_category[dependent_var]\n",
    "\n",
    "#         model.fit(X, y)\n",
    "\n",
    "#         results[category] = {\n",
    "#             'coefficients': model.named_steps['regressor'].coef_,\n",
    "#             'intercept': model.named_steps['regressor'].intercept_,\n",
    "#             'r_squared': model.score(X, y),\n",
    "#             'feature_names': feature_names\n",
    "#         }\n",
    "\n",
    "#     return results\n",
    "\n",
    "# # Calculating Ratings\n",
    "# results = linear_regression_category_wise(df, 'category', 'price_cv')\n",
    "\n",
    "# for category, result in results.items():\n",
    "#     print(f\"Category: {category}\")\n",
    "#     print(f\"  Feature Names: {result['feature_names']}\")\n",
    "#     print(f\"  Coefficients: {result['coefficients']}\")\n",
    "#     print(f\"  Intercept: {result['intercept']}\")\n",
    "#     print(f\"  R-squared: {result['r_squared']}\\n\")\n"
   ]
  }
 ],
 "metadata": {
  "kernelspec": {
   "display_name": "Python 3 (ipykernel)",
   "language": "python",
   "name": "python3"
  },
  "language_info": {
   "codemirror_mode": {
    "name": "ipython",
    "version": 3
   },
   "file_extension": ".py",
   "mimetype": "text/x-python",
   "name": "python",
   "nbconvert_exporter": "python",
   "pygments_lexer": "ipython3",
   "version": "3.12.1"
  }
 },
 "nbformat": 4,
 "nbformat_minor": 5
}
